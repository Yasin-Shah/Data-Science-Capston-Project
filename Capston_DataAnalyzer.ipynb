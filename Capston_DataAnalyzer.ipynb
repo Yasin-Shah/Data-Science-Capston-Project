{
    "cells": [
        {
            "cell_type": "markdown",
            "metadata": {
                "collapsed": true
            },
            "source": "## Capston Project Notebook"
        },
        {
            "cell_type": "code",
            "execution_count": 2,
            "metadata": {},
            "outputs": [],
            "source": "import itertools\nimport numpy as np\nimport matplotlib.pyplot as plt\nfrom matplotlib.ticker import NullFormatter\nimport pandas as pd\nimport numpy as np\nimport matplotlib.ticker as ticker\nfrom sklearn import preprocessing\n%matplotlib inline"
        },
        {
            "cell_type": "markdown",
            "metadata": {},
            "source": "About dataset\nThis dataset is about past loans. The Loan_train.csv data set includes details of 346 customers whose loan are already paid off or defaulted. It includes following fields:\n\nField\tDescription\nLoan_status\tWhether a loan is paid off on in collection\nPrincipal\tBasic principal loan amount at the\nTerms\tOrigination terms which can be weekly (7 days), biweekly, and monthly payoff schedule\nEffective_date\tWhen the loan got originated and took effects\nDue_date\tSince it\u2019s one-time payoff schedule, each loan has one single due date\nAge\tAge of applicant\nEducation\tEducation of applicant\nGender\tThe gender of applicant\nLets download the dataset"
        },
        {
            "cell_type": "markdown",
            "metadata": {},
            "source": "## Load Data From CSV File"
        },
        {
            "cell_type": "code",
            "execution_count": null,
            "metadata": {},
            "outputs": [],
            "source": ""
        }
    ],
    "metadata": {
        "kernelspec": {
            "display_name": "Python 3.6",
            "language": "python",
            "name": "python3"
        },
        "language_info": {
            "codemirror_mode": {
                "name": "ipython",
                "version": 3
            },
            "file_extension": ".py",
            "mimetype": "text/x-python",
            "name": "python",
            "nbconvert_exporter": "python",
            "pygments_lexer": "ipython3",
            "version": "3.6.8"
        }
    },
    "nbformat": 4,
    "nbformat_minor": 1
}